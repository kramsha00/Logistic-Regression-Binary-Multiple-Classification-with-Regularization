{
 "cells": [
  {
   "cell_type": "markdown",
   "metadata": {
    "id": "dL86k3K8Ha7b"
   },
   "source": [
    "## ITCS494 Machine Learning\n",
    "## Lab Assignment 3. Logistic Regression and Regularization\n",
    "\n",
    "---------------------------------\n",
    "\n",
    "**RAMSHA KHALID MUHAMMAD KHALID**\n",
    "\n",
    "**20168013**\n",
    "\n",
    "---------------------------------\n",
    "\n",
    "**Objectives:**\n",
    "\n",
    "1.   Implement logistic regression for binary classification\n",
    "2.   Implement logistic regression for multiple classification \n",
    "3.   Add regularization and visualize the effect of changing the value of $\\lambda$ on the overfitting probelm\n",
    "4.   Test the model on 30% of the available data\n",
    "\n",
    "**Problem:**\n",
    "\n",
    "**Part 1: Binary classification (8 points)**\n",
    "\n",
    "For this assignment you will use the data for the grades of an actual course. Note that for objective 1, we would like to build a model using the cost function that we derived in class for binary classification. This will predict the grade of the student if it is a pass (A,B,C,D) or non-pass (F,WF,W). You can use any of the give parameters to build your hypothesis. \n",
    "1.   This will involve implementing gradient descent.\n",
    "2.   You should make it efficient using matrix and vector operations.\n",
    "Please test the results by doing the training on only a randomly chosen set of students (70%) of the total, then testing your hypothesis on the remaining 30%. Calculate your success rate in predicting the test data."
   ]
  },
  {
   "cell_type": "code",
   "execution_count": 1,
   "metadata": {
    "id": "YrQ7GgomHxeB",
    "scrolled": false
   },
   "outputs": [],
   "source": [
    "#import libraries\n",
    "import numpy as np\n",
    "import matplotlib.pyplot as plt\n",
    "import pandas as pd\n",
    "import seaborn as sns"
   ]
  },
  {
   "cell_type": "code",
   "execution_count": 2,
   "metadata": {
    "scrolled": false
   },
   "outputs": [
    {
     "data": {
      "text/html": [
       "<div>\n",
       "<style scoped>\n",
       "    .dataframe tbody tr th:only-of-type {\n",
       "        vertical-align: middle;\n",
       "    }\n",
       "\n",
       "    .dataframe tbody tr th {\n",
       "        vertical-align: top;\n",
       "    }\n",
       "\n",
       "    .dataframe thead th {\n",
       "        text-align: right;\n",
       "    }\n",
       "</style>\n",
       "<table border=\"1\" class=\"dataframe\">\n",
       "  <thead>\n",
       "    <tr style=\"text-align: right;\">\n",
       "      <th></th>\n",
       "      <th>SEC</th>\n",
       "      <th>Q1</th>\n",
       "      <th>Q2</th>\n",
       "      <th>Q3</th>\n",
       "      <th>Q4</th>\n",
       "      <th>T1</th>\n",
       "      <th>test1</th>\n",
       "      <th>Q1.1</th>\n",
       "      <th>Q2.1</th>\n",
       "      <th>Q3.1</th>\n",
       "      <th>...</th>\n",
       "      <th>mid</th>\n",
       "      <th>Q1.3</th>\n",
       "      <th>Q2.3</th>\n",
       "      <th>Q3.2</th>\n",
       "      <th>Q4.2</th>\n",
       "      <th>Q5</th>\n",
       "      <th>Final</th>\n",
       "      <th>final</th>\n",
       "      <th>total</th>\n",
       "      <th>grade</th>\n",
       "    </tr>\n",
       "  </thead>\n",
       "  <tbody>\n",
       "    <tr>\n",
       "      <th>0</th>\n",
       "      <td>1</td>\n",
       "      <td>8.0</td>\n",
       "      <td>7.0</td>\n",
       "      <td>7.5</td>\n",
       "      <td>11.0</td>\n",
       "      <td>33.5</td>\n",
       "      <td>16.7</td>\n",
       "      <td>3.0</td>\n",
       "      <td>2.0</td>\n",
       "      <td>10.8</td>\n",
       "      <td>...</td>\n",
       "      <td>45.8</td>\n",
       "      <td>11.8</td>\n",
       "      <td>11.5</td>\n",
       "      <td>14.0</td>\n",
       "      <td>5.0</td>\n",
       "      <td>12.0</td>\n",
       "      <td>54.3</td>\n",
       "      <td>27.1</td>\n",
       "      <td>73.0</td>\n",
       "      <td>C</td>\n",
       "    </tr>\n",
       "    <tr>\n",
       "      <th>1</th>\n",
       "      <td>1</td>\n",
       "      <td>8.0</td>\n",
       "      <td>8.6</td>\n",
       "      <td>7.5</td>\n",
       "      <td>12.0</td>\n",
       "      <td>36.1</td>\n",
       "      <td>18.1</td>\n",
       "      <td>5.0</td>\n",
       "      <td>5.5</td>\n",
       "      <td>8.0</td>\n",
       "      <td>...</td>\n",
       "      <td>50.5</td>\n",
       "      <td>13.5</td>\n",
       "      <td>12.0</td>\n",
       "      <td>15.0</td>\n",
       "      <td>4.0</td>\n",
       "      <td>8.0</td>\n",
       "      <td>52.5</td>\n",
       "      <td>26.3</td>\n",
       "      <td>77.0</td>\n",
       "      <td>B-</td>\n",
       "    </tr>\n",
       "    <tr>\n",
       "      <th>2</th>\n",
       "      <td>1</td>\n",
       "      <td>8.0</td>\n",
       "      <td>4.1</td>\n",
       "      <td>7.0</td>\n",
       "      <td>11.0</td>\n",
       "      <td>30.1</td>\n",
       "      <td>15.0</td>\n",
       "      <td>3.0</td>\n",
       "      <td>3.5</td>\n",
       "      <td>5.5</td>\n",
       "      <td>...</td>\n",
       "      <td>37.5</td>\n",
       "      <td>7.0</td>\n",
       "      <td>4.3</td>\n",
       "      <td>3.0</td>\n",
       "      <td>0.0</td>\n",
       "      <td>3.0</td>\n",
       "      <td>17.3</td>\n",
       "      <td>8.6</td>\n",
       "      <td>46.0</td>\n",
       "      <td>F</td>\n",
       "    </tr>\n",
       "    <tr>\n",
       "      <th>3</th>\n",
       "      <td>1</td>\n",
       "      <td>6.0</td>\n",
       "      <td>7.3</td>\n",
       "      <td>6.0</td>\n",
       "      <td>11.0</td>\n",
       "      <td>30.3</td>\n",
       "      <td>15.2</td>\n",
       "      <td>NaN</td>\n",
       "      <td>NaN</td>\n",
       "      <td>NaN</td>\n",
       "      <td>...</td>\n",
       "      <td>33.7</td>\n",
       "      <td>NaN</td>\n",
       "      <td>NaN</td>\n",
       "      <td>NaN</td>\n",
       "      <td>NaN</td>\n",
       "      <td>NaN</td>\n",
       "      <td>NaN</td>\n",
       "      <td>NaN</td>\n",
       "      <td>NaN</td>\n",
       "      <td>F</td>\n",
       "    </tr>\n",
       "    <tr>\n",
       "      <th>4</th>\n",
       "      <td>1</td>\n",
       "      <td>3.0</td>\n",
       "      <td>3.3</td>\n",
       "      <td>8.0</td>\n",
       "      <td>10.5</td>\n",
       "      <td>24.8</td>\n",
       "      <td>12.4</td>\n",
       "      <td>1.5</td>\n",
       "      <td>3.0</td>\n",
       "      <td>7.5</td>\n",
       "      <td>...</td>\n",
       "      <td>37.6</td>\n",
       "      <td>7.0</td>\n",
       "      <td>8.5</td>\n",
       "      <td>9.0</td>\n",
       "      <td>2.0</td>\n",
       "      <td>3.0</td>\n",
       "      <td>29.5</td>\n",
       "      <td>14.8</td>\n",
       "      <td>52.0</td>\n",
       "      <td>F</td>\n",
       "    </tr>\n",
       "    <tr>\n",
       "      <th>...</th>\n",
       "      <td>...</td>\n",
       "      <td>...</td>\n",
       "      <td>...</td>\n",
       "      <td>...</td>\n",
       "      <td>...</td>\n",
       "      <td>...</td>\n",
       "      <td>...</td>\n",
       "      <td>...</td>\n",
       "      <td>...</td>\n",
       "      <td>...</td>\n",
       "      <td>...</td>\n",
       "      <td>...</td>\n",
       "      <td>...</td>\n",
       "      <td>...</td>\n",
       "      <td>...</td>\n",
       "      <td>...</td>\n",
       "      <td>...</td>\n",
       "      <td>...</td>\n",
       "      <td>...</td>\n",
       "      <td>...</td>\n",
       "      <td>...</td>\n",
       "    </tr>\n",
       "    <tr>\n",
       "      <th>836</th>\n",
       "      <td>25</td>\n",
       "      <td>8.0</td>\n",
       "      <td>9.2</td>\n",
       "      <td>10.0</td>\n",
       "      <td>12.0</td>\n",
       "      <td>39.2</td>\n",
       "      <td>19.6</td>\n",
       "      <td>6.0</td>\n",
       "      <td>6.0</td>\n",
       "      <td>11.5</td>\n",
       "      <td>...</td>\n",
       "      <td>59.1</td>\n",
       "      <td>13.8</td>\n",
       "      <td>14.0</td>\n",
       "      <td>16.0</td>\n",
       "      <td>14.0</td>\n",
       "      <td>11.0</td>\n",
       "      <td>68.8</td>\n",
       "      <td>34.4</td>\n",
       "      <td>93.0</td>\n",
       "      <td>A</td>\n",
       "    </tr>\n",
       "    <tr>\n",
       "      <th>837</th>\n",
       "      <td>25</td>\n",
       "      <td>7.8</td>\n",
       "      <td>8.6</td>\n",
       "      <td>8.5</td>\n",
       "      <td>10.0</td>\n",
       "      <td>34.8</td>\n",
       "      <td>17.4</td>\n",
       "      <td>5.0</td>\n",
       "      <td>5.0</td>\n",
       "      <td>6.5</td>\n",
       "      <td>...</td>\n",
       "      <td>47.8</td>\n",
       "      <td>NaN</td>\n",
       "      <td>NaN</td>\n",
       "      <td>NaN</td>\n",
       "      <td>NaN</td>\n",
       "      <td>NaN</td>\n",
       "      <td>NaN</td>\n",
       "      <td>NaN</td>\n",
       "      <td>NaN</td>\n",
       "      <td>F</td>\n",
       "    </tr>\n",
       "    <tr>\n",
       "      <th>838</th>\n",
       "      <td>25</td>\n",
       "      <td>6.0</td>\n",
       "      <td>4.7</td>\n",
       "      <td>4.0</td>\n",
       "      <td>9.0</td>\n",
       "      <td>23.7</td>\n",
       "      <td>11.9</td>\n",
       "      <td>1.0</td>\n",
       "      <td>4.5</td>\n",
       "      <td>1.0</td>\n",
       "      <td>...</td>\n",
       "      <td>29.5</td>\n",
       "      <td>4.5</td>\n",
       "      <td>1.0</td>\n",
       "      <td>3.5</td>\n",
       "      <td>2.0</td>\n",
       "      <td>3.0</td>\n",
       "      <td>14.0</td>\n",
       "      <td>7.0</td>\n",
       "      <td>37.0</td>\n",
       "      <td>F</td>\n",
       "    </tr>\n",
       "    <tr>\n",
       "      <th>839</th>\n",
       "      <td>25</td>\n",
       "      <td>7.3</td>\n",
       "      <td>4.5</td>\n",
       "      <td>9.5</td>\n",
       "      <td>8.0</td>\n",
       "      <td>29.3</td>\n",
       "      <td>14.6</td>\n",
       "      <td>6.0</td>\n",
       "      <td>6.0</td>\n",
       "      <td>9.5</td>\n",
       "      <td>...</td>\n",
       "      <td>48.5</td>\n",
       "      <td>12.0</td>\n",
       "      <td>3.0</td>\n",
       "      <td>16.0</td>\n",
       "      <td>10.0</td>\n",
       "      <td>17.0</td>\n",
       "      <td>58.0</td>\n",
       "      <td>29.0</td>\n",
       "      <td>77.0</td>\n",
       "      <td>B-</td>\n",
       "    </tr>\n",
       "    <tr>\n",
       "      <th>840</th>\n",
       "      <td>25</td>\n",
       "      <td>6.5</td>\n",
       "      <td>1.8</td>\n",
       "      <td>7.0</td>\n",
       "      <td>5.0</td>\n",
       "      <td>20.3</td>\n",
       "      <td>10.2</td>\n",
       "      <td>3.5</td>\n",
       "      <td>5.5</td>\n",
       "      <td>6.5</td>\n",
       "      <td>...</td>\n",
       "      <td>36.5</td>\n",
       "      <td>9.5</td>\n",
       "      <td>5.0</td>\n",
       "      <td>9.5</td>\n",
       "      <td>3.5</td>\n",
       "      <td>9.0</td>\n",
       "      <td>36.5</td>\n",
       "      <td>18.3</td>\n",
       "      <td>55.0</td>\n",
       "      <td>F</td>\n",
       "    </tr>\n",
       "  </tbody>\n",
       "</table>\n",
       "<p>841 rows × 35 columns</p>\n",
       "</div>"
      ],
      "text/plain": [
       "     SEC   Q1   Q2    Q3    Q4    T1  test1  Q1.1  Q2.1  Q3.1  ...   mid  \\\n",
       "0      1  8.0  7.0   7.5  11.0  33.5   16.7   3.0   2.0  10.8  ...  45.8   \n",
       "1      1  8.0  8.6   7.5  12.0  36.1   18.1   5.0   5.5   8.0  ...  50.5   \n",
       "2      1  8.0  4.1   7.0  11.0  30.1   15.0   3.0   3.5   5.5  ...  37.5   \n",
       "3      1  6.0  7.3   6.0  11.0  30.3   15.2   NaN   NaN   NaN  ...  33.7   \n",
       "4      1  3.0  3.3   8.0  10.5  24.8   12.4   1.5   3.0   7.5  ...  37.6   \n",
       "..   ...  ...  ...   ...   ...   ...    ...   ...   ...   ...  ...   ...   \n",
       "836   25  8.0  9.2  10.0  12.0  39.2   19.6   6.0   6.0  11.5  ...  59.1   \n",
       "837   25  7.8  8.6   8.5  10.0  34.8   17.4   5.0   5.0   6.5  ...  47.8   \n",
       "838   25  6.0  4.7   4.0   9.0  23.7   11.9   1.0   4.5   1.0  ...  29.5   \n",
       "839   25  7.3  4.5   9.5   8.0  29.3   14.6   6.0   6.0   9.5  ...  48.5   \n",
       "840   25  6.5  1.8   7.0   5.0  20.3   10.2   3.5   5.5   6.5  ...  36.5   \n",
       "\n",
       "     Q1.3  Q2.3  Q3.2  Q4.2    Q5  Final  final  total grade  \n",
       "0    11.8  11.5  14.0   5.0  12.0   54.3   27.1   73.0     C  \n",
       "1    13.5  12.0  15.0   4.0   8.0   52.5   26.3   77.0    B-  \n",
       "2     7.0   4.3   3.0   0.0   3.0   17.3    8.6   46.0     F  \n",
       "3     NaN   NaN   NaN   NaN   NaN    NaN    NaN    NaN     F  \n",
       "4     7.0   8.5   9.0   2.0   3.0   29.5   14.8   52.0     F  \n",
       "..    ...   ...   ...   ...   ...    ...    ...    ...   ...  \n",
       "836  13.8  14.0  16.0  14.0  11.0   68.8   34.4   93.0     A  \n",
       "837   NaN   NaN   NaN   NaN   NaN    NaN    NaN    NaN     F  \n",
       "838   4.5   1.0   3.5   2.0   3.0   14.0    7.0   37.0     F  \n",
       "839  12.0   3.0  16.0  10.0  17.0   58.0   29.0   77.0    B-  \n",
       "840   9.5   5.0   9.5   3.5   9.0   36.5   18.3   55.0     F  \n",
       "\n",
       "[841 rows x 35 columns]"
      ]
     },
     "execution_count": 2,
     "metadata": {},
     "output_type": "execute_result"
    }
   ],
   "source": [
    "#read data and rename columns\n",
    "marks = pd.read_csv(\"csc103.csv\", header=0, skiprows = [0,2])\n",
    "marks.rename(columns={'T1.1':'test1','T2.1':'test2','Unnamed: 25':'mid', 'Unnamed: 33':'total', 'Unnamed: 34':'grade', 'Final.1':'final'}, inplace=True)\n",
    "marks"
   ]
  },
  {
   "cell_type": "code",
   "execution_count": 3,
   "metadata": {
    "scrolled": false
   },
   "outputs": [],
   "source": [
    "#drop all columns other than mid (marks out of 60), final (marks out of 40) and grade\n",
    "marks.drop(marks.columns.difference(['mid','final','grade']), 1, inplace=True)"
   ]
  },
  {
   "cell_type": "code",
   "execution_count": 4,
   "metadata": {
    "scrolled": false
   },
   "outputs": [],
   "source": [
    "#drop all rows with any null cell value\n",
    "marks.dropna(how='any', inplace=True)\n",
    "data = marks.copy(deep=True)"
   ]
  },
  {
   "cell_type": "code",
   "execution_count": 5,
   "metadata": {
    "scrolled": false
   },
   "outputs": [],
   "source": [
    "#change all grades to binary values \n",
    "#1 for grade (A,A-,B+,B-,B,C+,C-,C,D+,D)\n",
    "#0 for grade (F,W,WE,WF)\n",
    "marks[\"grade\"].replace({\"A\":1,\"A-\":1,\"B+\":1,\"B-\":1,\"B\":1,\"C+\":1,\"C-\":1,\"C\":1,\"D\":1,\"D+\":1,\"WE\":0,\"WF\":0,\"W\":0,\"F\":0},inplace=True)"
   ]
  },
  {
   "cell_type": "code",
   "execution_count": 6,
   "metadata": {},
   "outputs": [],
   "source": [
    "#split the dataset into 70 : 30 for training and testing\n",
    "train_set = marks.sample(frac=0.70, random_state=0)\n",
    "test_set  = marks.drop(train_set.index)"
   ]
  },
  {
   "cell_type": "code",
   "execution_count": 7,
   "metadata": {
    "scrolled": false
   },
   "outputs": [],
   "source": [
    "#plot all the passed and failed of training data (part 3)\n",
    "passed = train_set.loc[train_set['grade'] == 1]\n",
    "failed = train_set.loc[train_set['grade'] == 0]"
   ]
  },
  {
   "cell_type": "code",
   "execution_count": 8,
   "metadata": {
    "scrolled": false
   },
   "outputs": [
    {
     "data": {
      "text/html": [
       "<div>\n",
       "<style scoped>\n",
       "    .dataframe tbody tr th:only-of-type {\n",
       "        vertical-align: middle;\n",
       "    }\n",
       "\n",
       "    .dataframe tbody tr th {\n",
       "        vertical-align: top;\n",
       "    }\n",
       "\n",
       "    .dataframe thead th {\n",
       "        text-align: right;\n",
       "    }\n",
       "</style>\n",
       "<table border=\"1\" class=\"dataframe\">\n",
       "  <thead>\n",
       "    <tr style=\"text-align: right;\">\n",
       "      <th></th>\n",
       "      <th>X0</th>\n",
       "      <th>mid</th>\n",
       "      <th>final</th>\n",
       "    </tr>\n",
       "  </thead>\n",
       "  <tbody>\n",
       "    <tr>\n",
       "      <th>702</th>\n",
       "      <td>1</td>\n",
       "      <td>-0.069132</td>\n",
       "      <td>-0.177952</td>\n",
       "    </tr>\n",
       "    <tr>\n",
       "      <th>143</th>\n",
       "      <td>1</td>\n",
       "      <td>-0.264132</td>\n",
       "      <td>-0.285369</td>\n",
       "    </tr>\n",
       "    <tr>\n",
       "      <th>18</th>\n",
       "      <td>1</td>\n",
       "      <td>-0.085799</td>\n",
       "      <td>0.008749</td>\n",
       "    </tr>\n",
       "    <tr>\n",
       "      <th>686</th>\n",
       "      <td>1</td>\n",
       "      <td>0.032534</td>\n",
       "      <td>0.070130</td>\n",
       "    </tr>\n",
       "    <tr>\n",
       "      <th>513</th>\n",
       "      <td>1</td>\n",
       "      <td>0.182534</td>\n",
       "      <td>0.256831</td>\n",
       "    </tr>\n",
       "    <tr>\n",
       "      <th>...</th>\n",
       "      <td>...</td>\n",
       "      <td>...</td>\n",
       "      <td>...</td>\n",
       "    </tr>\n",
       "    <tr>\n",
       "      <th>488</th>\n",
       "      <td>1</td>\n",
       "      <td>0.024201</td>\n",
       "      <td>-0.055190</td>\n",
       "    </tr>\n",
       "    <tr>\n",
       "      <th>572</th>\n",
       "      <td>1</td>\n",
       "      <td>-0.105799</td>\n",
       "      <td>0.080360</td>\n",
       "    </tr>\n",
       "    <tr>\n",
       "      <th>297</th>\n",
       "      <td>1</td>\n",
       "      <td>-0.129132</td>\n",
       "      <td>0.134069</td>\n",
       "    </tr>\n",
       "    <tr>\n",
       "      <th>408</th>\n",
       "      <td>1</td>\n",
       "      <td>-0.135799</td>\n",
       "      <td>-0.280254</td>\n",
       "    </tr>\n",
       "    <tr>\n",
       "      <th>748</th>\n",
       "      <td>1</td>\n",
       "      <td>0.234201</td>\n",
       "      <td>0.392381</td>\n",
       "    </tr>\n",
       "  </tbody>\n",
       "</table>\n",
       "<p>461 rows × 3 columns</p>\n",
       "</div>"
      ],
      "text/plain": [
       "     X0       mid     final\n",
       "702   1 -0.069132 -0.177952\n",
       "143   1 -0.264132 -0.285369\n",
       "18    1 -0.085799  0.008749\n",
       "686   1  0.032534  0.070130\n",
       "513   1  0.182534  0.256831\n",
       "..   ..       ...       ...\n",
       "488   1  0.024201 -0.055190\n",
       "572   1 -0.105799  0.080360\n",
       "297   1 -0.129132  0.134069\n",
       "408   1 -0.135799 -0.280254\n",
       "748   1  0.234201  0.392381\n",
       "\n",
       "[461 rows x 3 columns]"
      ]
     },
     "execution_count": 8,
     "metadata": {},
     "output_type": "execute_result"
    }
   ],
   "source": [
    "#split the features and target for training and testing datasets\n",
    "trainY = train_set['grade']\n",
    "testY = test_set['grade']\n",
    "\n",
    "trainX = train_set.drop('grade',axis=1) \n",
    "testX = test_set.drop('grade', axis=1)\n",
    "\n",
    "testData = testX.copy(deep=True)\n",
    "testDate = pd.concat([pd.Series(1, index=testData.index, name='X0'), testData], axis=1)\n",
    "#mean normalization and scaling of features\n",
    "trainX = trainX.apply(lambda X: (X-X.mean())/X.max())\n",
    "testX = testX.apply(lambda X: (X-X.mean())/X.max())\n",
    "\n",
    "#add the bias value to feature datasets\n",
    "trainX = pd.concat([pd.Series(1, index=trainX.index, name='X0'), trainX], axis=1)\n",
    "testX = pd.concat([pd.Series(1, index=testX.index, name='X0'), testX], axis=1)\n",
    "\n",
    "#training data X\n",
    "trainX"
   ]
  },
  {
   "cell_type": "code",
   "execution_count": 9,
   "metadata": {},
   "outputs": [
    {
     "data": {
      "text/html": [
       "<div>\n",
       "<style scoped>\n",
       "    .dataframe tbody tr th:only-of-type {\n",
       "        vertical-align: middle;\n",
       "    }\n",
       "\n",
       "    .dataframe tbody tr th {\n",
       "        vertical-align: top;\n",
       "    }\n",
       "\n",
       "    .dataframe thead th {\n",
       "        text-align: right;\n",
       "    }\n",
       "</style>\n",
       "<table border=\"1\" class=\"dataframe\">\n",
       "  <thead>\n",
       "    <tr style=\"text-align: right;\">\n",
       "      <th></th>\n",
       "      <th>grade</th>\n",
       "    </tr>\n",
       "  </thead>\n",
       "  <tbody>\n",
       "    <tr>\n",
       "      <th>702</th>\n",
       "      <td>0</td>\n",
       "    </tr>\n",
       "    <tr>\n",
       "      <th>143</th>\n",
       "      <td>0</td>\n",
       "    </tr>\n",
       "    <tr>\n",
       "      <th>18</th>\n",
       "      <td>1</td>\n",
       "    </tr>\n",
       "    <tr>\n",
       "      <th>686</th>\n",
       "      <td>1</td>\n",
       "    </tr>\n",
       "    <tr>\n",
       "      <th>513</th>\n",
       "      <td>1</td>\n",
       "    </tr>\n",
       "    <tr>\n",
       "      <th>...</th>\n",
       "      <td>...</td>\n",
       "    </tr>\n",
       "    <tr>\n",
       "      <th>488</th>\n",
       "      <td>1</td>\n",
       "    </tr>\n",
       "    <tr>\n",
       "      <th>572</th>\n",
       "      <td>1</td>\n",
       "    </tr>\n",
       "    <tr>\n",
       "      <th>297</th>\n",
       "      <td>1</td>\n",
       "    </tr>\n",
       "    <tr>\n",
       "      <th>408</th>\n",
       "      <td>0</td>\n",
       "    </tr>\n",
       "    <tr>\n",
       "      <th>748</th>\n",
       "      <td>1</td>\n",
       "    </tr>\n",
       "  </tbody>\n",
       "</table>\n",
       "<p>461 rows × 1 columns</p>\n",
       "</div>"
      ],
      "text/plain": [
       "     grade\n",
       "702      0\n",
       "143      0\n",
       "18       1\n",
       "686      1\n",
       "513      1\n",
       "..     ...\n",
       "488      1\n",
       "572      1\n",
       "297      1\n",
       "408      0\n",
       "748      1\n",
       "\n",
       "[461 rows x 1 columns]"
      ]
     },
     "execution_count": 9,
     "metadata": {},
     "output_type": "execute_result"
    }
   ],
   "source": [
    "#training data y\n",
    "trainY.to_frame()"
   ]
  },
  {
   "cell_type": "code",
   "execution_count": 10,
   "metadata": {
    "scrolled": false
   },
   "outputs": [],
   "source": [
    "#sigmoid function to return all values within range of 0 - 1\n",
    "def sigmoid(h):\n",
    "    return 1 / (1 + np.exp(-h))"
   ]
  },
  {
   "cell_type": "code",
   "execution_count": 11,
   "metadata": {
    "scrolled": false
   },
   "outputs": [],
   "source": [
    "#cost function to calculate cost of model\n",
    "def cost(X,y,theta):\n",
    "    m = len(y)\n",
    "    hypothesis = sigmoid(X @ theta)\n",
    "    cost = (1/m)*(((-y).T @ np.log(hypothesis))-((1-y).T @ np.log(1-hypothesis)))\n",
    "    return cost"
   ]
  },
  {
   "cell_type": "code",
   "execution_count": 12,
   "metadata": {
    "scrolled": false
   },
   "outputs": [],
   "source": [
    "#gradient descent function to find the best theta\n",
    "def gradient_descent(X, y, theta, rate, iterations):\n",
    "    m = len(y)\n",
    "    costs = []\n",
    "\n",
    "    #find theta for the number of iterations\n",
    "    for i in range(iterations):\n",
    "        #calculate theta\n",
    "        theta = theta - (rate/m) * (X.T @ (sigmoid(X @ theta) - y)) \n",
    "        #calculate cost\n",
    "        c = cost(X, y, theta)\n",
    "        costs.append(c)\n",
    "        \n",
    "        #print cost at each 100th iteration\n",
    "        if(i % 100 == 0):\n",
    "            print (\"Cost at iteration \", i, \" = \", c)\n",
    "\n",
    "    return (costs, theta)"
   ]
  },
  {
   "cell_type": "code",
   "execution_count": 13,
   "metadata": {
    "scrolled": false
   },
   "outputs": [],
   "source": [
    "def predict(X, theta):\n",
    "    return np.round(sigmoid(X @ theta))"
   ]
  },
  {
   "cell_type": "code",
   "execution_count": 14,
   "metadata": {
    "scrolled": false
   },
   "outputs": [],
   "source": [
    "def accuracy(theta, X, y):\n",
    "    #calculate predictions for testing dataset\n",
    "    pred = predict(X, theta)\n",
    "    \n",
    "    #set counter for correct predictions\n",
    "    counter = 0\n",
    "    \n",
    "    for i in range(len(y)):\n",
    "        #if correct prediction, increment counter\n",
    "        if((pred.iloc[i] == 1 and y.iloc[i] == 1)or(pred.iloc[i] == 0 and y.iloc[i] == 0)):\n",
    "            counter+=1\n",
    "        \n",
    "    #calculate accuracy of correct predictions    \n",
    "    accurate = (counter/len(y))*100\n",
    "    correct = counter\n",
    "    \n",
    "    #total - correct predictions = wrong predictions\n",
    "    wrong = len(y) - counter\n",
    "    \n",
    "    return accurate, correct, wrong "
   ]
  },
  {
   "cell_type": "code",
   "execution_count": 15,
   "metadata": {
    "scrolled": false
   },
   "outputs": [],
   "source": [
    "#Initialize values of iterations and learning rate\n",
    "iterations = 1000\n",
    "alpha = 0.5\n",
    "\n",
    "#Initialize theta with 0s\n",
    "theta = np.array([0]*len(trainX.columns))"
   ]
  },
  {
   "cell_type": "code",
   "execution_count": 16,
   "metadata": {
    "scrolled": false
   },
   "outputs": [
    {
     "name": "stdout",
     "output_type": "stream",
     "text": [
      "Cost at iteration  0  =  0.6666614058727254\n",
      "Cost at iteration  100  =  0.32809175602651086\n",
      "Cost at iteration  200  =  0.2503309797950012\n",
      "Cost at iteration  300  =  0.21278102338807636\n",
      "Cost at iteration  400  =  0.18991979257610406\n",
      "Cost at iteration  500  =  0.17418538373023212\n",
      "Cost at iteration  600  =  0.16251199289026164\n",
      "Cost at iteration  700  =  0.15340349621369068\n",
      "Cost at iteration  800  =  0.14603486842338032\n",
      "Cost at iteration  900  =  0.13990995369089454\n"
     ]
    },
    {
     "data": {
      "text/plain": [
       "X0       2.132705\n",
       "mid      6.655618\n",
       "final    9.896911\n",
       "dtype: float64"
      ]
     },
     "execution_count": 16,
     "metadata": {},
     "output_type": "execute_result"
    }
   ],
   "source": [
    "c , theta = gradient_descent(trainX, trainY, theta, alpha, iterations)\n",
    "th = theta\n",
    "theta"
   ]
  },
  {
   "cell_type": "code",
   "execution_count": 17,
   "metadata": {
    "scrolled": false
   },
   "outputs": [
    {
     "data": {
      "image/png": "[encoded data removed]",
      "text/plain": [
       "<Figure size 432x288 with 1 Axes>"
      ]
     },
     "metadata": {
      "needs_background": "light"
     },
     "output_type": "display_data"
    }
   ],
   "source": [
    "#Plot graph to visualize the cost function\n",
    "plt.figure()\n",
    "plt.title('Cost Function')\n",
    "plt.xlabel('Number of Iterations')\n",
    "plt.ylabel('Error Cost')\n",
    "\n",
    "plt.scatter(x=list(range(iterations)) , y=c, s=5, color=\"orange\")\n",
    "plt.show()"
   ]
  },
  {
   "cell_type": "code",
   "execution_count": 18,
   "metadata": {
    "scrolled": false
   },
   "outputs": [
    {
     "name": "stdout",
     "output_type": "stream",
     "text": [
      "Accuracy =  97.0 %\n",
      "Correct predictions =  191\n",
      "Incorrect predictions =  7\n"
     ]
    }
   ],
   "source": [
    "#prediction accuracy of test data\n",
    "acc, correct, wrong = accuracy(theta, testX, testY)\n",
    "print(\"Accuracy = \", np.ceil(acc), \"%\")\n",
    "print(\"Correct predictions = \", correct)\n",
    "print(\"Incorrect predictions = \", wrong)"
   ]
  },
  {
   "cell_type": "markdown",
   "metadata": {
    "id": "jASJgkqEKU92"
   },
   "source": [
    "\n",
    "**Part 2: Multiclass classification (6 points)**\n",
    "\n",
    "Implement multiclass logistic regression using also the functions we developed in class. (You cannot use a ready made algorithm from a library). Use matrix and vector operations and test it on predicting the grade: A,B,C,... etc."
   ]
  },
  {
   "cell_type": "code",
   "execution_count": 19,
   "metadata": {
    "id": "4gvyWquLHKbQ",
    "scrolled": false
   },
   "outputs": [],
   "source": [
    "#dividing data into 70:30 for training and testing\n",
    "training_data = data.sample(frac=0.70, random_state=0)\n",
    "testing_data  = data.drop(training_data.index)\n",
    "\n",
    "#split features for tetsing and training\n",
    "trainingY = training_data['grade']\n",
    "Grades = testing_data['grade']\n",
    "\n",
    "trainingX = training_data.drop('grade',axis=1) \n",
    "testingX = testing_data.drop('grade', axis=1)\n",
    "\n",
    "#mean normalization and scaling of features\n",
    "trainingX = trainingX.apply(lambda X: (X-X.mean())/(X.max()-X.min()))\n",
    "testingX = testingX.apply(lambda X: (X-X.mean())/(X.max()-X.min()))\n",
    "\n",
    "#add the bias value to feature datasets\n",
    "trainingX = pd.concat([pd.Series(1, index=trainingX.index, name='X0'), trainingX], axis=1)\n",
    "testingX = pd.concat([pd.Series(1, index=testingX.index, name='X0'), testingX], axis=1)"
   ]
  },
  {
   "cell_type": "code",
   "execution_count": 20,
   "metadata": {
    "scrolled": false
   },
   "outputs": [],
   "source": [
    "#make copies of trainingY for each class\n",
    "# A, A-        -> A\n",
    "# B+, B, B-    -> B\n",
    "# C+, C, C-    -> C\n",
    "# D+, D        -> D\n",
    "# F, WE, WF, W -> F\n",
    "\n",
    "yA = trainingY.copy(deep=True)\n",
    "yB = trainingY.copy(deep=True)\n",
    "yC = trainingY.copy(deep=True)\n",
    "yD = trainingY.copy(deep=True)\n",
    "yF = trainingY.copy(deep=True)\n",
    "\n",
    "#Change grades to binary values for respective classes\n",
    "yA.replace(\n",
    "    {\"A\":1,\"A-\":1,\"B+\":0,\"B-\":0,\"B\":0,\"C+\":0,\"C-\":0,\"C\":0,\"D\":0,\"D+\":0,\"WE\":0,\"WF\":0,\"W\":0,\"F\":0},\n",
    "    inplace=True)\n",
    "\n",
    "yB.replace(\n",
    "    {\"A\":0,\"A-\":0,\"B+\":1,\"B-\":1,\"B\":1,\"C+\":0,\"C-\":0,\"C\":0,\"D\":0,\"D+\":0,\"WE\":0,\"WF\":0,\"W\":0,\"F\":0},\n",
    "    inplace=True)\n",
    "\n",
    "yC.replace(\n",
    "    {\"A\":0,\"A-\":0,\"B+\":0,\"B-\":0,\"B\":0,\"C+\":1,\"C-\":1,\"C\":1,\"D\":0,\"D+\":0,\"WE\":0,\"WF\":0,\"W\":0,\"F\":0},\n",
    "    inplace=True)\n",
    "\n",
    "yD.replace(\n",
    "    {\"A\":0,\"A-\":0,\"B+\":0,\"B-\":0,\"B\":0,\"C+\":0,\"C-\":0,\"C\":0,\"D\":1,\"D+\":1,\"WE\":0,\"WF\":0,\"W\":0,\"F\":0},\n",
    "    inplace=True)\n",
    "\n",
    "yF.replace(\n",
    "    {\"A\":0,\"A-\":0,\"B+\":0,\"B-\":0,\"B\":0,\"C+\":0,\"C-\":0,\"C\":0,\"D\":0,\"D+\":0,\"WE\":1,\"WF\":1,\"W\":1,\"F\":1},\n",
    "    inplace=True)\n",
    "\n",
    "Grades.replace(\n",
    "    {\"A\":'a',\"A-\":'a',\"B+\":'b',\"B-\":'b',\"B\":'b',\"C+\":'c',\"C-\":'c',\"C\":'c',\"D\":'d',\"D+\":'d',\"WE\":'f',\"WF\":'f',\"W\":'f',\"F\":'f'},\n",
    "    inplace=True)\n",
    "\n",
    "testingY = Grades.replace(\n",
    "    {\"a\":1,\"b\":2,\"c\":3,\"d\":4,\"f\":5})"
   ]
  },
  {
   "cell_type": "code",
   "execution_count": 21,
   "metadata": {
    "scrolled": false
   },
   "outputs": [],
   "source": [
    "#Initialize theta with 0s\n",
    "theta = np.array([0]*len(trainX.columns))"
   ]
  },
  {
   "cell_type": "code",
   "execution_count": 22,
   "metadata": {
    "scrolled": false
   },
   "outputs": [
    {
     "name": "stdout",
     "output_type": "stream",
     "text": [
      "Cost at iteration  0  =  0.6409253484669236\n",
      "Cost at iteration  100  =  0.32324283752521066\n",
      "Cost at iteration  200  =  0.2649001465615965\n",
      "Cost at iteration  300  =  0.23200785760353687\n",
      "Cost at iteration  400  =  0.21033875554088338\n",
      "Cost at iteration  500  =  0.19469409928855352\n",
      "Cost at iteration  600  =  0.18270760998433827\n",
      "Cost at iteration  700  =  0.17313537918538496\n",
      "Cost at iteration  800  =  0.1652545799952441\n",
      "Cost at iteration  900  =  0.1586131788322657\n"
     ]
    },
    {
     "data": {
      "image/png": "[encoded data removed]",
      "text/plain": [
       "<Figure size 432x288 with 1 Axes>"
      ]
     },
     "metadata": {
      "needs_background": "light"
     },
     "output_type": "display_data"
    }
   ],
   "source": [
    "costA , thetaA = gradient_descent(trainX, yA, theta, alpha, iterations)\n",
    "\n",
    "#Plot graph to visualize the cost function\n",
    "plt.figure()\n",
    "plt.title('Cost Function for class A')\n",
    "plt.xlabel('Number of Iterations')\n",
    "plt.ylabel('Error Cost')\n",
    "\n",
    "plt.scatter(x=list(range(iterations)) , y=costA, s=5, color=\"red\")\n",
    "plt.show()"
   ]
  },
  {
   "cell_type": "code",
   "execution_count": 23,
   "metadata": {
    "scrolled": false
   },
   "outputs": [
    {
     "name": "stdout",
     "output_type": "stream",
     "text": [
      "Cost at iteration  0  =  0.6450024572715178\n",
      "Cost at iteration  100  =  0.4274969763902116\n",
      "Cost at iteration  200  =  0.4112320870813612\n",
      "Cost at iteration  300  =  0.4044780070735804\n",
      "Cost at iteration  400  =  0.40131204692700434\n",
      "Cost at iteration  500  =  0.39969441206142425\n",
      "Cost at iteration  600  =  0.39880657153544863\n",
      "Cost at iteration  700  =  0.3982842835151765\n",
      "Cost at iteration  800  =  0.3979534819414732\n",
      "Cost at iteration  900  =  0.39772667466998257\n"
     ]
    },
    {
     "data": {
      "image/png": "[encoded data removed]",
      "text/plain": [
       "<Figure size 432x288 with 1 Axes>"
      ]
     },
     "metadata": {
      "needs_background": "light"
     },
     "output_type": "display_data"
    }
   ],
   "source": [
    "costB , thetaB = gradient_descent(trainX, yB, theta, alpha, iterations)\n",
    "\n",
    "#Plot graph to visualize the cost function\n",
    "plt.figure()\n",
    "plt.title('Cost Function for class B')\n",
    "plt.xlabel('Number of Iterations')\n",
    "plt.ylabel('Error Cost')\n",
    "\n",
    "plt.scatter(x=list(range(iterations)) , y=costB, s=5, color=\"blue\")\n",
    "plt.show()"
   ]
  },
  {
   "cell_type": "code",
   "execution_count": 24,
   "metadata": {
    "scrolled": false
   },
   "outputs": [
    {
     "name": "stdout",
     "output_type": "stream",
     "text": [
      "Cost at iteration  0  =  0.6489095516789768\n",
      "Cost at iteration  100  =  0.48628500758449456\n",
      "Cost at iteration  200  =  0.48467282502592435\n",
      "Cost at iteration  300  =  0.48382886607109615\n",
      "Cost at iteration  400  =  0.48323045555877553\n",
      "Cost at iteration  500  =  0.4827279613669628\n",
      "Cost at iteration  600  =  0.48227598545129113\n",
      "Cost at iteration  700  =  0.4818594379542873\n",
      "Cost at iteration  800  =  0.4814723247117292\n",
      "Cost at iteration  900  =  0.48111149264784536\n"
     ]
    },
    {
     "data": {
      "image/png": "[encoded data removed]",
      "text/plain": [
       "<Figure size 432x288 with 1 Axes>"
      ]
     },
     "metadata": {
      "needs_background": "light"
     },
     "output_type": "display_data"
    }
   ],
   "source": [
    "costC , thetaC = gradient_descent(trainX, yC, theta, alpha, iterations)\n",
    "\n",
    "#Plot graph to visualize the cost function\n",
    "plt.figure()\n",
    "plt.title('Cost Function for class C')\n",
    "plt.xlabel('Number of Iterations')\n",
    "plt.ylabel('Error Cost')\n",
    "\n",
    "plt.scatter(x=list(range(iterations)) , y=costC, s=5, color=\"yellowgreen\")\n",
    "plt.show()"
   ]
  },
  {
   "cell_type": "code",
   "execution_count": 25,
   "metadata": {
    "scrolled": false
   },
   "outputs": [
    {
     "name": "stdout",
     "output_type": "stream",
     "text": [
      "Cost at iteration  0  =  0.6397146725453519\n",
      "Cost at iteration  100  =  0.43841663858429386\n",
      "Cost at iteration  200  =  0.436595686450065\n",
      "Cost at iteration  300  =  0.4359653517760027\n",
      "Cost at iteration  400  =  0.43570256947049274\n",
      "Cost at iteration  500  =  0.43555728949191336\n",
      "Cost at iteration  600  =  0.4354530995307453\n",
      "Cost at iteration  700  =  0.43536625675702306\n",
      "Cost at iteration  800  =  0.4352890984352062\n",
      "Cost at iteration  900  =  0.4352189161672258\n"
     ]
    },
    {
     "data": {
      "image/png": "[encoded data removed]",
      "text/plain": [
       "<Figure size 432x288 with 1 Axes>"
      ]
     },
     "metadata": {
      "needs_background": "light"
     },
     "output_type": "display_data"
    }
   ],
   "source": [
    "costD , thetaD = gradient_descent(trainX, yD, theta, alpha, iterations)\n",
    "\n",
    "#Plot graph to visualize the cost function\n",
    "plt.figure()\n",
    "plt.title('Cost Function for class D')\n",
    "plt.xlabel('Number of Iterations')\n",
    "plt.ylabel('Error Cost')\n",
    "\n",
    "plt.scatter(x=list(range(iterations)) , y=costD, s=5, color=\"yellow\")\n",
    "plt.show()"
   ]
  },
  {
   "cell_type": "code",
   "execution_count": 26,
   "metadata": {
    "scrolled": false
   },
   "outputs": [
    {
     "name": "stdout",
     "output_type": "stream",
     "text": [
      "Cost at iteration  0  =  0.6666614058727255\n",
      "Cost at iteration  100  =  0.32809175602651086\n",
      "Cost at iteration  200  =  0.2503309797950012\n",
      "Cost at iteration  300  =  0.21278102338807636\n",
      "Cost at iteration  400  =  0.18991979257610406\n",
      "Cost at iteration  500  =  0.17418538373023212\n",
      "Cost at iteration  600  =  0.16251199289026158\n",
      "Cost at iteration  700  =  0.15340349621369065\n",
      "Cost at iteration  800  =  0.14603486842338037\n",
      "Cost at iteration  900  =  0.13990995369089454\n"
     ]
    },
    {
     "data": {
      "image/png": "[encoded data removed]",
      "text/plain": [
       "<Figure size 432x288 with 1 Axes>"
      ]
     },
     "metadata": {
      "needs_background": "light"
     },
     "output_type": "display_data"
    }
   ],
   "source": [
    "costF , thetaF = gradient_descent(trainX, yF, theta, alpha, iterations)\n",
    "\n",
    "#Plot graph to visualize the cost function\n",
    "plt.figure()\n",
    "plt.title('Cost Function for class F')\n",
    "plt.xlabel('Number of Iterations')\n",
    "plt.ylabel('Error Cost')\n",
    "\n",
    "plt.scatter(x=list(range(iterations)) , y=costF, s=5, color=\"grey\")\n",
    "plt.show()"
   ]
  },
  {
   "cell_type": "code",
   "execution_count": 27,
   "metadata": {
    "scrolled": false
   },
   "outputs": [],
   "source": [
    "#predict for multi-class\n",
    "def classpredict(X, theta):\n",
    "    return sigmoid(X @ theta)\n",
    "\n",
    "#predict final grade\n",
    "def predictGrade(X):\n",
    "    \n",
    "    #calculate phypothesis for each class\n",
    "    predA = classpredict(X, thetaA)\n",
    "    predB = classpredict(X, thetaB)\n",
    "    predC = classpredict(X, thetaC)\n",
    "    predD = classpredict(X, thetaD)\n",
    "    predF = classpredict(X, thetaF)\n",
    "    \n",
    "    #add all hypothesis in dataframe for easy comparison\n",
    "    df = pd.concat([predA, predB, predC, predD, predF], axis=1)\n",
    "    symbols = ['a', 'b', 'c','d', 'f']\n",
    "    df.columns = symbols\n",
    "    \n",
    "    #find max of the hypothesis\n",
    "    df['max'] = df[['a', 'b', 'c','d', 'f']].max(axis=1)\n",
    "    \n",
    "    #add the respective grade according to max hypothesis\n",
    "    lists=[]\n",
    "    for i in range(len(X)):\n",
    "        lists.append((df.columns[(df == df.iloc[i]['max']).iloc[i]])[0])\n",
    "    \n",
    "    testing_data['predicted'] = lists\n",
    "    \n",
    "    #caluculate accuracy\n",
    "    accuracyy(testing_data)\n",
    "    \n",
    "    #return data with original and predicted grades\n",
    "    return testing_data\n",
    "\n",
    "#calculate accuracy\n",
    "def accuracyy(df):\n",
    "\n",
    "    #compare if predicted grade is equal to actual grade\n",
    "    df['accurate'] = df['predicted'].str.lower() == df['grade'].str.lower()\n",
    "    \n",
    "    #count number of correct and wrong predictions\n",
    "    correct = df.accurate.value_counts().loc[True]\n",
    "    wrong = df.accurate.value_counts().loc[False]\n",
    "    \n",
    "    #calculate accuracy of correct predicitons\n",
    "    accuracy = (correct/len(df))*100\n",
    "    \n",
    "    #print accuracy\n",
    "    print(\"Accuracy = \" ,np.ceil(accuracy), \"%\")\n",
    "    print(\"Correct Predictions= \", correct)\n",
    "    print(\"Wrong Predictions= \", wrong)\n"
   ]
  },
  {
   "cell_type": "code",
   "execution_count": 28,
   "metadata": {
    "scrolled": false
   },
   "outputs": [
    {
     "name": "stdout",
     "output_type": "stream",
     "text": [
      "Accuracy =  75.0 %\n",
      "Correct Predictions=  148\n",
      "Wrong Predictions=  50\n"
     ]
    },
    {
     "data": {
      "text/html": [
       "<div>\n",
       "<style scoped>\n",
       "    .dataframe tbody tr th:only-of-type {\n",
       "        vertical-align: middle;\n",
       "    }\n",
       "\n",
       "    .dataframe tbody tr th {\n",
       "        vertical-align: top;\n",
       "    }\n",
       "\n",
       "    .dataframe thead th {\n",
       "        text-align: right;\n",
       "    }\n",
       "</style>\n",
       "<table border=\"1\" class=\"dataframe\">\n",
       "  <thead>\n",
       "    <tr style=\"text-align: right;\">\n",
       "      <th></th>\n",
       "      <th>mid</th>\n",
       "      <th>final</th>\n",
       "      <th>grade</th>\n",
       "      <th>predicted</th>\n",
       "      <th>accurate</th>\n",
       "    </tr>\n",
       "  </thead>\n",
       "  <tbody>\n",
       "    <tr>\n",
       "      <th>12</th>\n",
       "      <td>41.9</td>\n",
       "      <td>13.3</td>\n",
       "      <td>f</td>\n",
       "      <td>f</td>\n",
       "      <td>True</td>\n",
       "    </tr>\n",
       "    <tr>\n",
       "      <th>14</th>\n",
       "      <td>53.9</td>\n",
       "      <td>27.6</td>\n",
       "      <td>b</td>\n",
       "      <td>b</td>\n",
       "      <td>True</td>\n",
       "    </tr>\n",
       "    <tr>\n",
       "      <th>26</th>\n",
       "      <td>32.2</td>\n",
       "      <td>5.5</td>\n",
       "      <td>f</td>\n",
       "      <td>f</td>\n",
       "      <td>True</td>\n",
       "    </tr>\n",
       "    <tr>\n",
       "      <th>30</th>\n",
       "      <td>52.7</td>\n",
       "      <td>31.1</td>\n",
       "      <td>b</td>\n",
       "      <td>b</td>\n",
       "      <td>True</td>\n",
       "    </tr>\n",
       "    <tr>\n",
       "      <th>31</th>\n",
       "      <td>39.8</td>\n",
       "      <td>9.3</td>\n",
       "      <td>f</td>\n",
       "      <td>f</td>\n",
       "      <td>True</td>\n",
       "    </tr>\n",
       "    <tr>\n",
       "      <th>...</th>\n",
       "      <td>...</td>\n",
       "      <td>...</td>\n",
       "      <td>...</td>\n",
       "      <td>...</td>\n",
       "      <td>...</td>\n",
       "    </tr>\n",
       "    <tr>\n",
       "      <th>823</th>\n",
       "      <td>51.2</td>\n",
       "      <td>31.0</td>\n",
       "      <td>b</td>\n",
       "      <td>b</td>\n",
       "      <td>True</td>\n",
       "    </tr>\n",
       "    <tr>\n",
       "      <th>826</th>\n",
       "      <td>45.1</td>\n",
       "      <td>28.0</td>\n",
       "      <td>c</td>\n",
       "      <td>c</td>\n",
       "      <td>True</td>\n",
       "    </tr>\n",
       "    <tr>\n",
       "      <th>829</th>\n",
       "      <td>55.0</td>\n",
       "      <td>36.4</td>\n",
       "      <td>a</td>\n",
       "      <td>a</td>\n",
       "      <td>True</td>\n",
       "    </tr>\n",
       "    <tr>\n",
       "      <th>839</th>\n",
       "      <td>48.5</td>\n",
       "      <td>29.0</td>\n",
       "      <td>b</td>\n",
       "      <td>b</td>\n",
       "      <td>True</td>\n",
       "    </tr>\n",
       "    <tr>\n",
       "      <th>840</th>\n",
       "      <td>36.5</td>\n",
       "      <td>18.3</td>\n",
       "      <td>f</td>\n",
       "      <td>f</td>\n",
       "      <td>True</td>\n",
       "    </tr>\n",
       "  </tbody>\n",
       "</table>\n",
       "<p>198 rows × 5 columns</p>\n",
       "</div>"
      ],
      "text/plain": [
       "      mid  final grade predicted  accurate\n",
       "12   41.9   13.3     f         f      True\n",
       "14   53.9   27.6     b         b      True\n",
       "26   32.2    5.5     f         f      True\n",
       "30   52.7   31.1     b         b      True\n",
       "31   39.8    9.3     f         f      True\n",
       "..    ...    ...   ...       ...       ...\n",
       "823  51.2   31.0     b         b      True\n",
       "826  45.1   28.0     c         c      True\n",
       "829  55.0   36.4     a         a      True\n",
       "839  48.5   29.0     b         b      True\n",
       "840  36.5   18.3     f         f      True\n",
       "\n",
       "[198 rows x 5 columns]"
      ]
     },
     "execution_count": 28,
     "metadata": {},
     "output_type": "execute_result"
    }
   ],
   "source": [
    "#call prediciton method to predict grades of testing data and calculate accuracy\n",
    "predictGrade(testingX)"
   ]
  },
  {
   "cell_type": "markdown",
   "metadata": {
    "id": "NvGH038YKoPs"
   },
   "source": [
    "**Part 3: Regularization (6 points)**\n",
    "\n",
    "Implement the regularization by adding the $\\lambda$ and the new term in the cost function. Visualize the change in the hypothesis for different $\\lambda$ values and calculating the success rate and cost for each one and drawing it in a graph."
   ]
  },
  {
   "cell_type": "code",
   "execution_count": 29,
   "metadata": {},
   "outputs": [],
   "source": [
    "def reg_cost(X,y,theta,lamda):\n",
    "    m = len(y)\n",
    "    hypothesis = sigmoid(X @ theta)\n",
    "    cost = (1/m)*(((-y).T @ np.log(hypothesis))-((1-y).T @ np.log(1-hypothesis)))\n",
    "    cost = cost + (lamda/(2*m))*(np.sum(np.power(theta,2)))\n",
    "    return cost"
   ]
  },
  {
   "cell_type": "code",
   "execution_count": 30,
   "metadata": {},
   "outputs": [],
   "source": [
    "def reg_descent_0(X, y, theta):\n",
    "    return (X.T @ (sigmoid(X @ theta) - y))\n",
    "        \n",
    "def reg_descent(X,y,theta,lamda,m):\n",
    "    return ((X.T @ (sigmoid(X @ theta) - y)) + (lamda/m) * theta)\n",
    "\n",
    "def descent(X,y,theta,lamda,m):\n",
    "    g0 = reg_descent_0(X,y,theta)\n",
    "    g1 = reg_descent(X,y,theta,lamda,m)\n",
    "\n",
    "    values = np.array([g0['X0'],g1['mid'],g1['final']])\n",
    "    gradient = pd.Series(values,index=['X0','mid','final'])\n",
    "    \n",
    "    return gradient\n",
    "    \n",
    "def reg_gradient_descent(X, y, theta, rate, iterations, lamda):\n",
    "    m = len(y)\n",
    "    costs = []\n",
    "\n",
    "    #find theta for the number of iterations\n",
    "    for i in range(iterations):\n",
    "        #calculate theta\n",
    "        theta = theta - (rate/m) * descent(X,y,theta,lamda,m)\n",
    "        #calculate cost\n",
    "        c = cost(X, y, theta)\n",
    "        costs.append(c)\n",
    "        \n",
    "        #print cost at each 100th iteration\n",
    "        if(i % 100 == 0):\n",
    "            print (\"Cost at iteration \", i, \" = \", c)\n",
    "\n",
    "    return (costs, theta)"
   ]
  },
  {
   "cell_type": "code",
   "execution_count": 31,
   "metadata": {},
   "outputs": [
    {
     "data": {
      "image/png": "[encoded data removed]",
      "text/plain": [
       "<Figure size 432x288 with 1 Axes>"
      ]
     },
     "metadata": {
      "needs_background": "light"
     },
     "output_type": "display_data"
    }
   ],
   "source": [
    "#Plot marks to see boundry line of passed and failed\n",
    "plt.scatter(passed['mid'], passed['final'], s=3, label='Passed', )\n",
    "plt.scatter(failed['mid'], failed['final'], s=3, label='Failed', color=\"yellowgreen\")\n",
    "plt.title('Marks')\n",
    "plt.xlabel('Marks out of 60')\n",
    "plt.ylabel('Marks out of 40')\n",
    "plt.legend()\n",
    "plt.show()"
   ]
  },
  {
   "cell_type": "code",
   "execution_count": 32,
   "metadata": {},
   "outputs": [
    {
     "name": "stdout",
     "output_type": "stream",
     "text": [
      "Cost at iteration  0  =  0.6666614058727254\n",
      "Cost at iteration  100  =  0.32903583777430384\n",
      "Cost at iteration  200  =  0.2521606345299313\n",
      "Cost at iteration  300  =  0.21534002246444225\n",
      "Cost at iteration  400  =  0.19312095942173027\n",
      "Cost at iteration  500  =  0.17797169078014277\n",
      "Cost at iteration  600  =  0.16684207191197442\n",
      "Cost at iteration  700  =  0.1582453321962828\n",
      "Cost at iteration  800  =  0.15136259087788365\n",
      "Cost at iteration  900  =  0.14570200704758093\n"
     ]
    },
    {
     "data": {
      "text/plain": [
       "X0       2.049752\n",
       "mid      6.314299\n",
       "final    9.402243\n",
       "dtype: float64"
      ]
     },
     "execution_count": 32,
     "metadata": {},
     "output_type": "execute_result"
    }
   ],
   "source": [
    "#Test with lamda = 50\n",
    "c1, theta1 = reg_gradient_descent(trainX, trainY, theta, alpha, iterations, 50)\n",
    "theta1"
   ]
  },
  {
   "cell_type": "code",
   "execution_count": 33,
   "metadata": {
    "scrolled": true
   },
   "outputs": [
    {
     "name": "stdout",
     "output_type": "stream",
     "text": [
      "Cost at iteration  0  =  0.6666614058727254\n",
      "Cost at iteration  100  =  0.34635709077801535\n",
      "Cost at iteration  200  =  0.28527368025683075\n",
      "Cost at iteration  300  =  0.2609880189703098\n",
      "Cost at iteration  400  =  0.2492467565342949\n",
      "Cost at iteration  500  =  0.2430353006678173\n",
      "Cost at iteration  600  =  0.2395932676175661\n",
      "Cost at iteration  700  =  0.2376367750820751\n",
      "Cost at iteration  800  =  0.23650842624969373\n",
      "Cost at iteration  900  =  0.2358520742078397\n"
     ]
    },
    {
     "data": {
      "text/plain": [
       "X0       1.356255\n",
       "mid      3.304993\n",
       "final    5.072859\n",
       "dtype: float64"
      ]
     },
     "execution_count": 33,
     "metadata": {},
     "output_type": "execute_result"
    }
   ],
   "source": [
    "#Test with lamda = 1000\n",
    "c2, theta2 = reg_gradient_descent(trainX, trainY, theta, alpha, iterations, 1000)\n",
    "theta2"
   ]
  },
  {
   "cell_type": "code",
   "execution_count": 34,
   "metadata": {},
   "outputs": [
    {
     "name": "stdout",
     "output_type": "stream",
     "text": [
      "Accuracy with lamda 50 =  96.96969696969697 %\n",
      "Correct predictions =  192\n",
      "Incorrect predictions =  6\n",
      "---------------------------------\n",
      "Accuracy with lamda 1000 =  97.97979797979798 %\n",
      "Correct predictions =  194\n",
      "Incorrect predictions =  4\n"
     ]
    }
   ],
   "source": [
    "#prediction accuracy of test data with lamda 50\n",
    "acc, correct, wrong = accuracy(theta1, testX, testY)\n",
    "print(\"Accuracy with lamda 50 = \", acc, \"%\")\n",
    "print(\"Correct predictions = \", correct)\n",
    "print(\"Incorrect predictions = \", wrong)\n",
    "\n",
    "print(\"---------------------------------\")\n",
    "#prediction accuracy of test data with lamda 1000\n",
    "acc, correct, wrong = accuracy(theta2, testX, testY)\n",
    "print(\"Accuracy with lamda 1000 = \", acc, \"%\")\n",
    "print(\"Correct predictions = \", correct)\n",
    "print(\"Incorrect predictions = \", wrong)"
   ]
  },
  {
   "cell_type": "code",
   "execution_count": 35,
   "metadata": {},
   "outputs": [
    {
     "data": {
      "image/png": "[encoded data removed]",
      "text/plain": [
       "<Figure size 432x288 with 1 Axes>"
      ]
     },
     "metadata": {
      "needs_background": "light"
     },
     "output_type": "display_data"
    }
   ],
   "source": [
    "#Plot graph to visualize the cost function of lamda 50\n",
    "plt.figure()\n",
    "plt.title('Cost Function with lamda 50')\n",
    "plt.xlabel('Number of Iterations')\n",
    "plt.ylabel('Error Cost')\n",
    "\n",
    "plt.scatter(x=list(range(iterations)) , y=c1, s=2, color=\"orange\")\n",
    "plt.show()"
   ]
  },
  {
   "cell_type": "code",
   "execution_count": 36,
   "metadata": {},
   "outputs": [
    {
     "data": {
      "image/png": "[encoded data removed]",
      "text/plain": [
       "<Figure size 432x288 with 1 Axes>"
      ]
     },
     "metadata": {
      "needs_background": "light"
     },
     "output_type": "display_data"
    }
   ],
   "source": [
    "#Plot graph to visualize the cost function with lamda 1000\n",
    "plt.figure()\n",
    "plt.title('Cost Function with lamda 1000')\n",
    "plt.xlabel('Number of Iterations')\n",
    "plt.ylabel('Error Cost')\n",
    "\n",
    "plt.scatter(x=list(range(iterations)) , y=c2, s=2, color=\"blue\")\n",
    "plt.show()"
   ]
  }
 ],
 "metadata": {
  "colab": {
   "name": "Lab3_Report.ipynb",
   "provenance": []
  },
  "kernelspec": {
   "display_name": "Python 3",
   "language": "python",
   "name": "python3"
  },
  "language_info": {
   "codemirror_mode": {
    "name": "ipython",
    "version": 3
   },
   "file_extension": ".py",
   "mimetype": "text/x-python",
   "name": "python",
   "nbconvert_exporter": "python",
   "pygments_lexer": "ipython3",
   "version": "3.8.3"
  }
 },
 "nbformat": 4,
 "nbformat_minor": 1
}
